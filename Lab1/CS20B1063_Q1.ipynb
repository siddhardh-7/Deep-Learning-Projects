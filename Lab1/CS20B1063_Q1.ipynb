{
 "cells": [
  {
   "cell_type": "markdown",
   "metadata": {},
   "source": [
    "## Siddhardha - CS20B1063"
   ]
  },
  {
   "cell_type": "markdown",
   "metadata": {},
   "source": [
    "### Question 1\n",
    "Implement the Perceptron algorithm from scratch in Python.\n",
    "\n",
    "* Initialize the weights with [0 0 0] and a learning rate of 0.0001.\n",
    "* For each iteration, calculate the output of the Perceptron for each input in the training set.\n",
    "* Use MSE to computer the error for all samples\n",
    "* Update the weights using the gradient descent procedure.\n",
    "* Repeat the above steps until the Perceptron converges or a maximum number of iterations is reached.\n",
    "* Test the trained Perceptron on a separate test set.\n",
    "* Use the step function as an activation function in the output layer\n",
    "\n",
    "Use the IRIS Dataset for the above, considering all the four features : sepal length, sepal width, petal length, and petal width, but only two classes - Setosa, Versicolor. Drop the feature vectors of the other class. Please find the dataset below.\n",
    "\n",
    "NOTE - Do not use inbuilt functions for perceptron."
   ]
  },
  {
   "cell_type": "code",
   "execution_count": 38,
   "metadata": {},
   "outputs": [
    {
     "name": "stdout",
     "output_type": "stream",
     "text": [
      "Imported the required modules\n"
     ]
    }
   ],
   "source": [
    "# import the required modules\n",
    "import numpy as np\n",
    "import matplotlib.pyplot as plt\n",
    "import pandas as pd\n",
    "\n",
    "print(\"Imported the required modules\")"
   ]
  },
  {
   "cell_type": "code",
   "execution_count": 39,
   "metadata": {},
   "outputs": [],
   "source": [
    "# import the dataset\n",
    "df = pd.read_csv(\"iris.csv\")"
   ]
  },
  {
   "cell_type": "code",
   "execution_count": 40,
   "metadata": {},
   "outputs": [
    {
     "data": {
      "text/html": [
       "<div>\n",
       "<style scoped>\n",
       "    .dataframe tbody tr th:only-of-type {\n",
       "        vertical-align: middle;\n",
       "    }\n",
       "\n",
       "    .dataframe tbody tr th {\n",
       "        vertical-align: top;\n",
       "    }\n",
       "\n",
       "    .dataframe thead th {\n",
       "        text-align: right;\n",
       "    }\n",
       "</style>\n",
       "<table border=\"1\" class=\"dataframe\">\n",
       "  <thead>\n",
       "    <tr style=\"text-align: right;\">\n",
       "      <th></th>\n",
       "      <th>Id</th>\n",
       "      <th>SepalLengthCm</th>\n",
       "      <th>SepalWidthCm</th>\n",
       "      <th>PetalLengthCm</th>\n",
       "      <th>PetalWidthCm</th>\n",
       "      <th>Species</th>\n",
       "    </tr>\n",
       "  </thead>\n",
       "  <tbody>\n",
       "    <tr>\n",
       "      <th>0</th>\n",
       "      <td>1</td>\n",
       "      <td>5.1</td>\n",
       "      <td>3.5</td>\n",
       "      <td>1.4</td>\n",
       "      <td>0.2</td>\n",
       "      <td>Iris-setosa</td>\n",
       "    </tr>\n",
       "    <tr>\n",
       "      <th>1</th>\n",
       "      <td>2</td>\n",
       "      <td>4.9</td>\n",
       "      <td>3.0</td>\n",
       "      <td>1.4</td>\n",
       "      <td>0.2</td>\n",
       "      <td>Iris-setosa</td>\n",
       "    </tr>\n",
       "    <tr>\n",
       "      <th>2</th>\n",
       "      <td>3</td>\n",
       "      <td>4.7</td>\n",
       "      <td>3.2</td>\n",
       "      <td>1.3</td>\n",
       "      <td>0.2</td>\n",
       "      <td>Iris-setosa</td>\n",
       "    </tr>\n",
       "    <tr>\n",
       "      <th>3</th>\n",
       "      <td>4</td>\n",
       "      <td>4.6</td>\n",
       "      <td>3.1</td>\n",
       "      <td>1.5</td>\n",
       "      <td>0.2</td>\n",
       "      <td>Iris-setosa</td>\n",
       "    </tr>\n",
       "    <tr>\n",
       "      <th>4</th>\n",
       "      <td>5</td>\n",
       "      <td>5.0</td>\n",
       "      <td>3.6</td>\n",
       "      <td>1.4</td>\n",
       "      <td>0.2</td>\n",
       "      <td>Iris-setosa</td>\n",
       "    </tr>\n",
       "  </tbody>\n",
       "</table>\n",
       "</div>"
      ],
      "text/plain": [
       "   Id  SepalLengthCm  SepalWidthCm  PetalLengthCm  PetalWidthCm      Species\n",
       "0   1            5.1           3.5            1.4           0.2  Iris-setosa\n",
       "1   2            4.9           3.0            1.4           0.2  Iris-setosa\n",
       "2   3            4.7           3.2            1.3           0.2  Iris-setosa\n",
       "3   4            4.6           3.1            1.5           0.2  Iris-setosa\n",
       "4   5            5.0           3.6            1.4           0.2  Iris-setosa"
      ]
     },
     "execution_count": 40,
     "metadata": {},
     "output_type": "execute_result"
    }
   ],
   "source": [
    "df.head()"
   ]
  },
  {
   "cell_type": "code",
   "execution_count": 41,
   "metadata": {},
   "outputs": [
    {
     "data": {
      "text/plain": [
       "array(['Iris-setosa', 'Iris-versicolor', 'Iris-virginica'], dtype=object)"
      ]
     },
     "execution_count": 41,
     "metadata": {},
     "output_type": "execute_result"
    }
   ],
   "source": [
    "# get all the unique species\n",
    "species = df[\"Species\"].unique()\n",
    "species"
   ]
  },
  {
   "cell_type": "code",
   "execution_count": 42,
   "metadata": {},
   "outputs": [],
   "source": [
    "# consider only iris-setosa and iris-versicolor\n",
    "df = df[df[\"Species\"] != \"Iris-virginica\"]"
   ]
  },
  {
   "cell_type": "code",
   "execution_count": 43,
   "metadata": {},
   "outputs": [],
   "source": [
    "X = df.iloc[:, 1:-1].values\n",
    "y = df.iloc[:, -1].values"
   ]
  },
  {
   "cell_type": "code",
   "execution_count": 44,
   "metadata": {},
   "outputs": [
    {
     "data": {
      "text/plain": [
       "<matplotlib.legend.Legend at 0x2055f6634f0>"
      ]
     },
     "execution_count": 44,
     "metadata": {},
     "output_type": "execute_result"
    },
    {
     "data": {
      "image/png": "[encoded data removed]",
      "text/plain": [
       "<Figure size 432x288 with 1 Axes>"
      ]
     },
     "metadata": {
      "needs_background": "light"
     },
     "output_type": "display_data"
    }
   ],
   "source": [
    "plt.scatter(\n",
    "    X[y == \"Iris-setosa\", 0],\n",
    "    X[y == \"Iris-setosa\", 1],\n",
    "    color=\"red\",\n",
    "    label=\"Iris-setosa\",\n",
    ")\n",
    "plt.scatter(\n",
    "    X[y == \"Iris-versicolor\", 0],\n",
    "    X[y == \"Iris-versicolor\", 1],\n",
    "    color=\"blue\",\n",
    "    label=\"Iris-versicolor\",\n",
    ")\n",
    "plt.title(\"Iris Dataset\")\n",
    "plt.xlabel(\"Sepal Length\")\n",
    "plt.ylabel(\"Sepal Width\")\n",
    "plt.legend()"
   ]
  },
  {
   "cell_type": "code",
   "execution_count": 45,
   "metadata": {},
   "outputs": [],
   "source": [
    "y = np.where(y == \"Iris-setosa\", 0, 1)"
   ]
  },
  {
   "cell_type": "code",
   "execution_count": 46,
   "metadata": {},
   "outputs": [
    {
     "data": {
      "text/plain": [
       "array([0, 0, 0, 0, 0, 0, 0, 0, 0, 0, 0, 0, 0, 0, 0, 0, 0, 0, 0, 0, 0, 0,\n",
       "       0, 0, 0, 0, 0, 0, 0, 0, 0, 0, 0, 0, 0, 0, 0, 0, 0, 0, 0, 0, 0, 0,\n",
       "       0, 0, 0, 0, 0, 0, 1, 1, 1, 1, 1, 1, 1, 1, 1, 1, 1, 1, 1, 1, 1, 1,\n",
       "       1, 1, 1, 1, 1, 1, 1, 1, 1, 1, 1, 1, 1, 1, 1, 1, 1, 1, 1, 1, 1, 1,\n",
       "       1, 1, 1, 1, 1, 1, 1, 1, 1, 1, 1, 1])"
      ]
     },
     "execution_count": 46,
     "metadata": {},
     "output_type": "execute_result"
    }
   ],
   "source": [
    "y"
   ]
  },
  {
   "cell_type": "code",
   "execution_count": 47,
   "metadata": {},
   "outputs": [],
   "source": [
    "# training set\n",
    "X_train = np.concatenate((X[:40], X[50:90]))\n",
    "y_train = np.concatenate((y[:40], y[50:90]))"
   ]
  },
  {
   "cell_type": "code",
   "execution_count": 48,
   "metadata": {},
   "outputs": [],
   "source": [
    "# testing set\n",
    "X_test = np.concatenate((X[40:50], X[90:]))\n",
    "y_test = np.concatenate((y[40:50], y[90:]))"
   ]
  },
  {
   "cell_type": "code",
   "execution_count": 49,
   "metadata": {},
   "outputs": [],
   "source": [
    "X_train = np.concatenate((np.ones((len(X_train), 1)), X_train), axis=1)\n",
    "X_test = np.concatenate((np.ones((len(X_test), 1)), X_test), axis=1)"
   ]
  },
  {
   "cell_type": "code",
   "execution_count": 50,
   "metadata": {},
   "outputs": [
    {
     "data": {
      "text/plain": [
       "array([[1. , 5.1, 3.5, 1.4, 0.2],\n",
       "       [1. , 4.9, 3. , 1.4, 0.2],\n",
       "       [1. , 4.7, 3.2, 1.3, 0.2],\n",
       "       [1. , 4.6, 3.1, 1.5, 0.2],\n",
       "       [1. , 5. , 3.6, 1.4, 0.2],\n",
       "       [1. , 5.4, 3.9, 1.7, 0.4],\n",
       "       [1. , 4.6, 3.4, 1.4, 0.3],\n",
       "       [1. , 5. , 3.4, 1.5, 0.2],\n",
       "       [1. , 4.4, 2.9, 1.4, 0.2],\n",
       "       [1. , 4.9, 3.1, 1.5, 0.1],\n",
       "       [1. , 5.4, 3.7, 1.5, 0.2],\n",
       "       [1. , 4.8, 3.4, 1.6, 0.2],\n",
       "       [1. , 4.8, 3. , 1.4, 0.1],\n",
       "       [1. , 4.3, 3. , 1.1, 0.1],\n",
       "       [1. , 5.8, 4. , 1.2, 0.2],\n",
       "       [1. , 5.7, 4.4, 1.5, 0.4],\n",
       "       [1. , 5.4, 3.9, 1.3, 0.4],\n",
       "       [1. , 5.1, 3.5, 1.4, 0.3],\n",
       "       [1. , 5.7, 3.8, 1.7, 0.3],\n",
       "       [1. , 5.1, 3.8, 1.5, 0.3],\n",
       "       [1. , 5.4, 3.4, 1.7, 0.2],\n",
       "       [1. , 5.1, 3.7, 1.5, 0.4],\n",
       "       [1. , 4.6, 3.6, 1. , 0.2],\n",
       "       [1. , 5.1, 3.3, 1.7, 0.5],\n",
       "       [1. , 4.8, 3.4, 1.9, 0.2],\n",
       "       [1. , 5. , 3. , 1.6, 0.2],\n",
       "       [1. , 5. , 3.4, 1.6, 0.4],\n",
       "       [1. , 5.2, 3.5, 1.5, 0.2],\n",
       "       [1. , 5.2, 3.4, 1.4, 0.2],\n",
       "       [1. , 4.7, 3.2, 1.6, 0.2],\n",
       "       [1. , 4.8, 3.1, 1.6, 0.2],\n",
       "       [1. , 5.4, 3.4, 1.5, 0.4],\n",
       "       [1. , 5.2, 4.1, 1.5, 0.1],\n",
       "       [1. , 5.5, 4.2, 1.4, 0.2],\n",
       "       [1. , 4.9, 3.1, 1.5, 0.1],\n",
       "       [1. , 5. , 3.2, 1.2, 0.2],\n",
       "       [1. , 5.5, 3.5, 1.3, 0.2],\n",
       "       [1. , 4.9, 3.1, 1.5, 0.1],\n",
       "       [1. , 4.4, 3. , 1.3, 0.2],\n",
       "       [1. , 5.1, 3.4, 1.5, 0.2],\n",
       "       [1. , 7. , 3.2, 4.7, 1.4],\n",
       "       [1. , 6.4, 3.2, 4.5, 1.5],\n",
       "       [1. , 6.9, 3.1, 4.9, 1.5],\n",
       "       [1. , 5.5, 2.3, 4. , 1.3],\n",
       "       [1. , 6.5, 2.8, 4.6, 1.5],\n",
       "       [1. , 5.7, 2.8, 4.5, 1.3],\n",
       "       [1. , 6.3, 3.3, 4.7, 1.6],\n",
       "       [1. , 4.9, 2.4, 3.3, 1. ],\n",
       "       [1. , 6.6, 2.9, 4.6, 1.3],\n",
       "       [1. , 5.2, 2.7, 3.9, 1.4],\n",
       "       [1. , 5. , 2. , 3.5, 1. ],\n",
       "       [1. , 5.9, 3. , 4.2, 1.5],\n",
       "       [1. , 6. , 2.2, 4. , 1. ],\n",
       "       [1. , 6.1, 2.9, 4.7, 1.4],\n",
       "       [1. , 5.6, 2.9, 3.6, 1.3],\n",
       "       [1. , 6.7, 3.1, 4.4, 1.4],\n",
       "       [1. , 5.6, 3. , 4.5, 1.5],\n",
       "       [1. , 5.8, 2.7, 4.1, 1. ],\n",
       "       [1. , 6.2, 2.2, 4.5, 1.5],\n",
       "       [1. , 5.6, 2.5, 3.9, 1.1],\n",
       "       [1. , 5.9, 3.2, 4.8, 1.8],\n",
       "       [1. , 6.1, 2.8, 4. , 1.3],\n",
       "       [1. , 6.3, 2.5, 4.9, 1.5],\n",
       "       [1. , 6.1, 2.8, 4.7, 1.2],\n",
       "       [1. , 6.4, 2.9, 4.3, 1.3],\n",
       "       [1. , 6.6, 3. , 4.4, 1.4],\n",
       "       [1. , 6.8, 2.8, 4.8, 1.4],\n",
       "       [1. , 6.7, 3. , 5. , 1.7],\n",
       "       [1. , 6. , 2.9, 4.5, 1.5],\n",
       "       [1. , 5.7, 2.6, 3.5, 1. ],\n",
       "       [1. , 5.5, 2.4, 3.8, 1.1],\n",
       "       [1. , 5.5, 2.4, 3.7, 1. ],\n",
       "       [1. , 5.8, 2.7, 3.9, 1.2],\n",
       "       [1. , 6. , 2.7, 5.1, 1.6],\n",
       "       [1. , 5.4, 3. , 4.5, 1.5],\n",
       "       [1. , 6. , 3.4, 4.5, 1.6],\n",
       "       [1. , 6.7, 3.1, 4.7, 1.5],\n",
       "       [1. , 6.3, 2.3, 4.4, 1.3],\n",
       "       [1. , 5.6, 3. , 4.1, 1.3],\n",
       "       [1. , 5.5, 2.5, 4. , 1.3]])"
      ]
     },
     "execution_count": 50,
     "metadata": {},
     "output_type": "execute_result"
    }
   ],
   "source": [
    "X_train"
   ]
  },
  {
   "cell_type": "code",
   "execution_count": 51,
   "metadata": {},
   "outputs": [
    {
     "data": {
      "text/plain": [
       "array([0, 0, 0, 0, 0, 0, 0, 0, 0, 0, 0, 0, 0, 0, 0, 0, 0, 0, 0, 0, 0, 0,\n",
       "       0, 0, 0, 0, 0, 0, 0, 0, 0, 0, 0, 0, 0, 0, 0, 0, 0, 0, 1, 1, 1, 1,\n",
       "       1, 1, 1, 1, 1, 1, 1, 1, 1, 1, 1, 1, 1, 1, 1, 1, 1, 1, 1, 1, 1, 1,\n",
       "       1, 1, 1, 1, 1, 1, 1, 1, 1, 1, 1, 1, 1, 1])"
      ]
     },
     "execution_count": 51,
     "metadata": {},
     "output_type": "execute_result"
    }
   ],
   "source": [
    "y_train"
   ]
  },
  {
   "cell_type": "code",
   "execution_count": 52,
   "metadata": {},
   "outputs": [
    {
     "data": {
      "text/plain": [
       "array([0., 0., 0., 0., 0.])"
      ]
     },
     "execution_count": 52,
     "metadata": {},
     "output_type": "execute_result"
    }
   ],
   "source": [
    "# initialize the weights to zeros\n",
    "W = np.zeros(X_train.shape[1])\n",
    "\n",
    "lr = 0.0001\n",
    "\n",
    "W"
   ]
  },
  {
   "cell_type": "code",
   "execution_count": 53,
   "metadata": {},
   "outputs": [
    {
     "name": "stdout",
     "output_type": "stream",
     "text": [
      "40 points correctly classified in 1 iteration\n",
      "73 points correctly classified in 2 iteration\n",
      "78 points correctly classified in 3 iteration\n",
      "78 points correctly classified in 4 iteration\n",
      "78 points correctly classified in 5 iteration\n",
      "77 points correctly classified in 6 iteration\n",
      "77 points correctly classified in 7 iteration\n",
      "76 points correctly classified in 8 iteration\n",
      "77 points correctly classified in 9 iteration\n",
      "77 points correctly classified in 10 iteration\n",
      "77 points correctly classified in 11 iteration\n",
      "77 points correctly classified in 12 iteration\n",
      "77 points correctly classified in 13 iteration\n",
      "77 points correctly classified in 14 iteration\n",
      "78 points correctly classified in 15 iteration\n",
      "78 points correctly classified in 16 iteration\n",
      "78 points correctly classified in 17 iteration\n",
      "78 points correctly classified in 18 iteration\n",
      "78 points correctly classified in 19 iteration\n",
      "78 points correctly classified in 20 iteration\n",
      "78 points correctly classified in 21 iteration\n",
      "79 points correctly classified in 22 iteration\n",
      "79 points correctly classified in 23 iteration\n",
      "78 points correctly classified in 24 iteration\n",
      "78 points correctly classified in 25 iteration\n",
      "78 points correctly classified in 26 iteration\n",
      "78 points correctly classified in 27 iteration\n",
      "79 points correctly classified in 28 iteration\n",
      "79 points correctly classified in 29 iteration\n",
      "79 points correctly classified in 30 iteration\n",
      "79 points correctly classified in 31 iteration\n",
      "79 points correctly classified in 32 iteration\n",
      "80 points correctly classified in 33 iteration\n"
     ]
    }
   ],
   "source": [
    "# Train the Perceptron until all points are correctly classified and update the weights using the stochastic gradient descent rule\n",
    "\n",
    "k = 1\n",
    "\n",
    "while True:\n",
    "    for i in range(X_train.shape[0]):\n",
    "        y_pred = np.dot(W, X_train[i])\n",
    "        error = y_pred - y_train[i]\n",
    "        if y_pred >= 0.5 and y_train[i] == 0:\n",
    "            W -= lr * 2 * error * X_train[i]\n",
    "        elif y_pred < 0.5 and y_train[i] == 1:\n",
    "            W -= lr * 2 * error * X_train[i]\n",
    "\n",
    "    count = 0\n",
    "    for i in range(X_train.shape[0]):\n",
    "        if (\n",
    "            np.dot(W.T, X_train[i]) >= 0.5\n",
    "            and y_train[i] == 1\n",
    "            or np.dot(W.T, X_train[i]) < 0.5\n",
    "            and y_train[i] == 0\n",
    "        ):\n",
    "            count += 1\n",
    "    print(\"{} points correctly classified in {} iteration\".format(count, k))\n",
    "\n",
    "    if count == X_train.shape[0]:\n",
    "        break\n",
    "    k += 1"
   ]
  },
  {
   "cell_type": "code",
   "execution_count": 54,
   "metadata": {},
   "outputs": [
    {
     "data": {
      "text/plain": [
       "array([0.01000609, 0.05605362, 0.02169931, 0.04587027, 0.01433344])"
      ]
     },
     "execution_count": 54,
     "metadata": {},
     "output_type": "execute_result"
    }
   ],
   "source": [
    "W"
   ]
  },
  {
   "cell_type": "code",
   "execution_count": 55,
   "metadata": {},
   "outputs": [
    {
     "name": "stdout",
     "output_type": "stream",
     "text": [
      "Accuracy: 100.0%\n"
     ]
    }
   ],
   "source": [
    "# get the accurracy in the testing set\n",
    "count = 0\n",
    "for i in range(X_test.shape[0]):\n",
    "    if (\n",
    "        np.dot(W.T, X_test[i]) >= 0.5\n",
    "        and y_test[i] == 1\n",
    "        or np.dot(W.T, X_test[i]) < 0.5\n",
    "        and y_test[i] == 0\n",
    "    ):\n",
    "        count += 1\n",
    "\n",
    "print(\"Accuracy: {}%\".format(count / X_test.shape[0] * 100))"
   ]
  }
 ],
 "metadata": {
  "kernelspec": {
   "display_name": "base",
   "language": "python",
   "name": "python3"
  },
  "language_info": {
   "codemirror_mode": {
    "name": "ipython",
    "version": 3
   },
   "file_extension": ".py",
   "mimetype": "text/x-python",
   "name": "python",
   "nbconvert_exporter": "python",
   "pygments_lexer": "ipython3",
   "version": "3.9.18"
  }
 },
 "nbformat": 4,
 "nbformat_minor": 2
}
